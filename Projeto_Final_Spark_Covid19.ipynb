{
 "cells": [
  {
   "cell_type": "markdown",
   "metadata": {},
   "source": [
    "### SESSÃO E CONTEXTO DO SPARK ###"
   ]
  },
  {
   "cell_type": "code",
   "execution_count": 1,
   "metadata": {},
   "outputs": [
    {
     "data": {
      "text/html": [
       "\n",
       "            <div>\n",
       "                <p><b>SparkSession - hive</b></p>\n",
       "                \n",
       "        <div>\n",
       "            <p><b>SparkContext</b></p>\n",
       "\n",
       "            <p><a href=\"http://jupyter-spark:4040\">Spark UI</a></p>\n",
       "\n",
       "            <dl>\n",
       "              <dt>Version</dt>\n",
       "                <dd><code>v2.4.1</code></dd>\n",
       "              <dt>Master</dt>\n",
       "                <dd><code>local[*]</code></dd>\n",
       "              <dt>AppName</dt>\n",
       "                <dd><code>pyspark-shell</code></dd>\n",
       "            </dl>\n",
       "        </div>\n",
       "        \n",
       "            </div>\n",
       "        "
      ],
      "text/plain": [
       "<pyspark.sql.session.SparkSession at 0x7f15f26a2da0>"
      ]
     },
     "execution_count": 1,
     "metadata": {},
     "output_type": "execute_result"
    }
   ],
   "source": [
    "# Informações da sessão de spark.\n",
    "\n",
    "spark"
   ]
  },
  {
   "cell_type": "code",
   "execution_count": 2,
   "metadata": {},
   "outputs": [
    {
     "data": {
      "text/html": [
       "\n",
       "        <div>\n",
       "            <p><b>SparkContext</b></p>\n",
       "\n",
       "            <p><a href=\"http://jupyter-spark:4040\">Spark UI</a></p>\n",
       "\n",
       "            <dl>\n",
       "              <dt>Version</dt>\n",
       "                <dd><code>v2.4.1</code></dd>\n",
       "              <dt>Master</dt>\n",
       "                <dd><code>local[*]</code></dd>\n",
       "              <dt>AppName</dt>\n",
       "                <dd><code>pyspark-shell</code></dd>\n",
       "            </dl>\n",
       "        </div>\n",
       "        "
      ],
      "text/plain": [
       "<SparkContext master=local[*] appName=pyspark-shell>"
      ]
     },
     "execution_count": 2,
     "metadata": {},
     "output_type": "execute_result"
    }
   ],
   "source": [
    "# informações do contexto do spark.\n",
    "\n",
    "sc"
   ]
  },
  {
   "cell_type": "code",
   "execution_count": 3,
   "metadata": {},
   "outputs": [],
   "source": [
    "# Setando o Log como INFO\n",
    "\n",
    "spark.sparkContext.setLogLevel(\"INFO\")"
   ]
  },
  {
   "cell_type": "code",
   "execution_count": 4,
   "metadata": {
    "scrolled": true
   },
   "outputs": [
    {
     "data": {
      "text/plain": [
       "[Database(name='default', description='Default Hive database', locationUri='hdfs://namenode:8020/user/hive/warehouse')]"
      ]
     },
     "execution_count": 4,
     "metadata": {},
     "output_type": "execute_result"
    }
   ],
   "source": [
    "# Visualizando todos os banco de dados com o catalog.\n",
    "\n",
    "spark.catalog.listDatabases()"
   ]
  },
  {
   "cell_type": "markdown",
   "metadata": {},
   "source": [
    "### LENDO OS DADOS COM DATAFRAME ###"
   ]
  },
  {
   "cell_type": "code",
   "execution_count": 5,
   "metadata": {},
   "outputs": [
    {
     "name": "stdout",
     "output_type": "stream",
     "text": [
      "+------+------+---------+-----+------+--------------+---------------+----------+---------+----------------+--------------+----------+---------------+-----------+----------------+---------------------+----------------------+\n",
      "|regiao|estado|municipio|coduf|codmun|codRegiaoSaude|nomeRegiaoSaude|      data|semanaEpi|populacaoTCU2019|casosAcumulado|casosNovos|obitosAcumulado|obitosNovos|Recuperadosnovos|emAcompanhamentoNovos|interior/metropolitana|\n",
      "+------+------+---------+-----+------+--------------+---------------+----------+---------+----------------+--------------+----------+---------------+-----------+----------------+---------------------+----------------------+\n",
      "|Brasil|  null|     null|   76|  null|          null|           null|2020-02-25|        9|       210147125|             0|         0|              0|          0|            null|                 null|                  null|\n",
      "|Brasil|  null|     null|   76|  null|          null|           null|2020-02-26|        9|       210147125|             1|         1|              0|          0|            null|                 null|                  null|\n",
      "|Brasil|  null|     null|   76|  null|          null|           null|2020-02-27|        9|       210147125|             1|         0|              0|          0|            null|                 null|                  null|\n",
      "|Brasil|  null|     null|   76|  null|          null|           null|2020-02-28|        9|       210147125|             1|         0|              0|          0|            null|                 null|                  null|\n",
      "|Brasil|  null|     null|   76|  null|          null|           null|2020-02-29|        9|       210147125|             2|         1|              0|          0|            null|                 null|                  null|\n",
      "+------+------+---------+-----+------+--------------+---------------+----------+---------+----------------+--------------+----------+---------------+-----------+----------------+---------------------+----------------------+\n",
      "only showing top 5 rows\n",
      "\n"
     ]
    }
   ],
   "source": [
    "arquivo_covid19_1 = spark.read.csv(\"hdfs://namenode:8020/user/cezarcarmo/covid19/projeto-final-spark-semantix/HIST_PAINEL_COVIDBR_2020_Parte1_06jul2021.csv\",sep=\";\",header=\"true\",encoding=\"UTF-8\")\n",
    "arquivo_covid19_1.show(5)"
   ]
  },
  {
   "cell_type": "code",
   "execution_count": 6,
   "metadata": {},
   "outputs": [
    {
     "data": {
      "text/plain": [
       "[Row(regiao='Brasil', estado=None, municipio=None, coduf='76', codmun=None, codRegiaoSaude=None, nomeRegiaoSaude=None, data='2020-08-01', semanaEpi='31', populacaoTCU2019='210147125', casosAcumulado='2707877', casosNovos='45392', obitosAcumulado='93563', obitosNovos='1088', Recuperadosnovos='1865729', emAcompanhamentoNovos='748585', interior/metropolitana=None),\n",
       " Row(regiao='Brasil', estado=None, municipio=None, coduf='76', codmun=None, codRegiaoSaude=None, nomeRegiaoSaude=None, data='2020-08-02', semanaEpi='32', populacaoTCU2019='210147125', casosAcumulado='2733677', casosNovos='25800', obitosAcumulado='94104', obitosNovos='541', Recuperadosnovos='1883677', emAcompanhamentoNovos='755896', interior/metropolitana=None),\n",
       " Row(regiao='Brasil', estado=None, municipio=None, coduf='76', codmun=None, codRegiaoSaude=None, nomeRegiaoSaude=None, data='2020-08-03', semanaEpi='32', populacaoTCU2019='210147125', casosAcumulado='2750318', casosNovos='16641', obitosAcumulado='94665', obitosNovos='561', Recuperadosnovos='1912319', emAcompanhamentoNovos='743334', interior/metropolitana=None),\n",
       " Row(regiao='Brasil', estado=None, municipio=None, coduf='76', codmun=None, codRegiaoSaude=None, nomeRegiaoSaude=None, data='2020-08-04', semanaEpi='32', populacaoTCU2019='210147125', casosAcumulado='2801921', casosNovos='51603', obitosAcumulado='95819', obitosNovos='1154', Recuperadosnovos='1970767', emAcompanhamentoNovos='735335', interior/metropolitana=None),\n",
       " Row(regiao='Brasil', estado=None, municipio=None, coduf='76', codmun=None, codRegiaoSaude=None, nomeRegiaoSaude=None, data='2020-08-05', semanaEpi='32', populacaoTCU2019='210147125', casosAcumulado='2857597', casosNovos='55676', obitosAcumulado='97240', obitosNovos='1421', Recuperadosnovos='2020637', emAcompanhamentoNovos='741180', interior/metropolitana=None)]"
      ]
     },
     "execution_count": 6,
     "metadata": {},
     "output_type": "execute_result"
    }
   ],
   "source": [
    "arquivo_covid19_2 = spark.read.csv(\"hdfs://namenode:8020/user/cezarcarmo/covid19/projeto-final-spark-semantix/HIST_PAINEL_COVIDBR_2020_Parte2_06jul2021.csv\",sep=\";\",header=\"true\",encoding=\"UTF-8\")\n",
    "arquivo_covid19_2.head(5)"
   ]
  },
  {
   "cell_type": "code",
   "execution_count": 7,
   "metadata": {},
   "outputs": [
    {
     "name": "stdout",
     "output_type": "stream",
     "text": [
      "+------+------+---------+-----+------+--------------+---------------+----------+---------+----------------+--------------+----------+---------------+-----------+----------------+---------------------+----------------------+\n",
      "|regiao|estado|municipio|coduf|codmun|codRegiaoSaude|nomeRegiaoSaude|      data|semanaEpi|populacaoTCU2019|casosAcumulado|casosNovos|obitosAcumulado|obitosNovos|Recuperadosnovos|emAcompanhamentoNovos|interior/metropolitana|\n",
      "+------+------+---------+-----+------+--------------+---------------+----------+---------+----------------+--------------+----------+---------------+-----------+----------------+---------------------+----------------------+\n",
      "|Brasil|  null|     null|   76|  null|          null|           null|2021-01-01|       53|       210147125|       7700578|     24605|         195411|        462|         6756284|               748883|                  null|\n",
      "|Brasil|  null|     null|   76|  null|          null|           null|2021-01-02|       53|       210147125|       7716405|     15827|         195725|        314|         6769420|               751260|                  null|\n",
      "|Brasil|  null|     null|   76|  null|          null|           null|2021-01-03|        1|       210147125|       7733746|     17341|         196018|        293|         6813008|               724720|                  null|\n",
      "|Brasil|  null|     null|   76|  null|          null|           null|2021-01-04|        1|       210147125|       7753752|     20006|         196561|        543|         6875230|               681961|                  null|\n",
      "|Brasil|  null|     null|   76|  null|          null|           null|2021-01-05|        1|       210147125|       7810400|     56648|         197732|       1171|         6963407|               649261|                  null|\n",
      "+------+------+---------+-----+------+--------------+---------------+----------+---------+----------------+--------------+----------+---------------+-----------+----------------+---------------------+----------------------+\n",
      "only showing top 5 rows\n",
      "\n"
     ]
    }
   ],
   "source": [
    "arquivo_covid19_3 = spark.read.csv(\"hdfs://namenode:8020/user/cezarcarmo/covid19/projeto-final-spark-semantix/HIST_PAINEL_COVIDBR_2021_Parte1_06jul2021.csv\",sep=\";\",header=\"true\",encoding=\"UTF-8\")\n",
    "arquivo_covid19_3.show(5)"
   ]
  },
  {
   "cell_type": "code",
   "execution_count": 8,
   "metadata": {},
   "outputs": [
    {
     "data": {
      "text/plain": [
       "[Row(regiao='Brasil', estado=None, municipio=None, coduf='76', codmun=None, codRegiaoSaude=None, nomeRegiaoSaude=None, data='2021-07-01', semanaEpi='26', populacaoTCU2019='210147125', casosAcumulado='18622304', casosNovos='65163', obitosAcumulado='520095', obitosNovos='2029', Recuperadosnovos='16931272', emAcompanhamentoNovos='1170937', interior/metropolitana=None),\n",
       " Row(regiao='Brasil', estado=None, municipio=None, coduf='76', codmun=None, codRegiaoSaude=None, nomeRegiaoSaude=None, data='2021-07-02', semanaEpi='26', populacaoTCU2019='210147125', casosAcumulado='18687469', casosNovos='65165', obitosAcumulado='521952', obitosNovos='1857', Recuperadosnovos='16989351', emAcompanhamentoNovos='1176166', interior/metropolitana=None),\n",
       " Row(regiao='Brasil', estado=None, municipio=None, coduf='76', codmun=None, codRegiaoSaude=None, nomeRegiaoSaude=None, data='2021-07-03', semanaEpi='26', populacaoTCU2019='210147125', casosAcumulado='18742025', casosNovos='54556', obitosAcumulado='523587', obitosNovos='1635', Recuperadosnovos='17033808', emAcompanhamentoNovos='1184630', interior/metropolitana=None),\n",
       " Row(regiao='Brasil', estado=None, municipio=None, coduf='76', codmun=None, codRegiaoSaude=None, nomeRegiaoSaude=None, data='2021-07-04', semanaEpi='27', populacaoTCU2019='210147125', casosAcumulado='18769808', casosNovos='27783', obitosAcumulado='524417', obitosNovos='830', Recuperadosnovos='17082876', emAcompanhamentoNovos='1162515', interior/metropolitana=None),\n",
       " Row(regiao='Brasil', estado=None, municipio=None, coduf='76', codmun=None, codRegiaoSaude=None, nomeRegiaoSaude=None, data='2021-07-05', semanaEpi='27', populacaoTCU2019='210147125', casosAcumulado='18792511', casosNovos='22703', obitosAcumulado='525112', obitosNovos='695', Recuperadosnovos='17151673', emAcompanhamentoNovos='1115726', interior/metropolitana=None)]"
      ]
     },
     "execution_count": 8,
     "metadata": {},
     "output_type": "execute_result"
    }
   ],
   "source": [
    "arquivo_covid19_4 = spark.read.csv(\"hdfs://namenode:8020/user/cezarcarmo/covid19/projeto-final-spark-semantix/HIST_PAINEL_COVIDBR_2021_Parte2_06jul2021.csv\",sep=\";\",header=\"true\",encoding=\"UTF-8\")\n",
    "arquivo_covid19_4.head(5)"
   ]
  },
  {
   "cell_type": "markdown",
   "metadata": {},
   "source": [
    "### SALVANDO  OS DATAFRAMES NO FORMATO DE TABELA HIVE ###"
   ]
  },
  {
   "cell_type": "code",
   "execution_count": 9,
   "metadata": {},
   "outputs": [],
   "source": [
    "arquivo_covid19_1.write.saveAsTable(\"covid19_I\")"
   ]
  },
  {
   "cell_type": "code",
   "execution_count": 10,
   "metadata": {},
   "outputs": [],
   "source": [
    "arquivo_covid19_2.write.saveAsTable(\"covid19_II\")"
   ]
  },
  {
   "cell_type": "code",
   "execution_count": 11,
   "metadata": {},
   "outputs": [],
   "source": [
    "arquivo_covid19_3.write.saveAsTable(\"covid19_III\")"
   ]
  },
  {
   "cell_type": "code",
   "execution_count": 12,
   "metadata": {},
   "outputs": [],
   "source": [
    "arquivo_covid19_4.write.saveAsTable(\"covid19_IV\")"
   ]
  },
  {
   "cell_type": "markdown",
   "metadata": {},
   "source": [
    "### VISUALIZANDO AS TABELAS COM O CATALOG ###"
   ]
  },
  {
   "cell_type": "code",
   "execution_count": 13,
   "metadata": {},
   "outputs": [
    {
     "data": {
      "text/plain": [
       "[Table(name='covid19_1', database='default', description=None, tableType='MANAGED', isTemporary=False),\n",
       " Table(name='covid19_2', database='default', description=None, tableType='MANAGED', isTemporary=False),\n",
       " Table(name='covid19_3', database='default', description=None, tableType='MANAGED', isTemporary=False),\n",
       " Table(name='covid19_4', database='default', description=None, tableType='MANAGED', isTemporary=False),\n",
       " Table(name='covid19_i', database='default', description=None, tableType='MANAGED', isTemporary=False),\n",
       " Table(name='covid19_ii', database='default', description=None, tableType='MANAGED', isTemporary=False),\n",
       " Table(name='covid19_iii', database='default', description=None, tableType='MANAGED', isTemporary=False),\n",
       " Table(name='covid19_iv', database='default', description=None, tableType='MANAGED', isTemporary=False)]"
      ]
     },
     "execution_count": 13,
     "metadata": {},
     "output_type": "execute_result"
    }
   ],
   "source": [
    "spark.catalog.listTables()"
   ]
  },
  {
   "cell_type": "markdown",
   "metadata": {},
   "source": [
    "### FORMATO E COMPRESSÃO DAS TABELAS NO HIVE ###"
   ]
  },
  {
   "cell_type": "code",
   "execution_count": 14,
   "metadata": {},
   "outputs": [
    {
     "name": "stdout",
     "output_type": "stream",
     "text": [
      "ls: `hdfs://namenode:8020/user/hive/warehouse/covid19_I': No such file or directory\r\n"
     ]
    }
   ],
   "source": [
    "!hdfs dfs -ls hdfs://namenode:8020/user/hive/warehouse/covid19_I"
   ]
  },
  {
   "cell_type": "code",
   "execution_count": 15,
   "metadata": {},
   "outputs": [
    {
     "name": "stdout",
     "output_type": "stream",
     "text": [
      "ls: `hdfs://namenode:8020/user/hive/warehouse/covid19_II': No such file or directory\r\n"
     ]
    }
   ],
   "source": [
    "!hdfs dfs -ls hdfs://namenode:8020/user/hive/warehouse/covid19_II"
   ]
  },
  {
   "cell_type": "code",
   "execution_count": 16,
   "metadata": {},
   "outputs": [
    {
     "name": "stdout",
     "output_type": "stream",
     "text": [
      "ls: `hdfs://namenode:8020/user/hive/warehouse/covid19_III': No such file or directory\r\n"
     ]
    }
   ],
   "source": [
    "!hdfs dfs -ls hdfs://namenode:8020/user/hive/warehouse/covid19_III"
   ]
  },
  {
   "cell_type": "code",
   "execution_count": 17,
   "metadata": {},
   "outputs": [
    {
     "name": "stdout",
     "output_type": "stream",
     "text": [
      "ls: `hdfs://namenode:8020/user/hive/warehouse/covid19_IV': No such file or directory\r\n"
     ]
    }
   ],
   "source": [
    "!hdfs dfs -ls hdfs://namenode:8020/user/hive/warehouse/covid19_IV"
   ]
  },
  {
   "cell_type": "markdown",
   "metadata": {},
   "source": [
    "### LENDO NO FORMATO DE TABELA HIVE ###"
   ]
  },
  {
   "cell_type": "code",
   "execution_count": 18,
   "metadata": {},
   "outputs": [
    {
     "name": "stdout",
     "output_type": "stream",
     "text": [
      "+------+------+---------+-----+------+--------------+---------------+----------+---------+----------------+--------------+----------+---------------+-----------+----------------+---------------------+----------------------+\n",
      "|regiao|estado|municipio|coduf|codmun|codRegiaoSaude|nomeRegiaoSaude|      data|semanaEpi|populacaoTCU2019|casosAcumulado|casosNovos|obitosAcumulado|obitosNovos|Recuperadosnovos|emAcompanhamentoNovos|interior/metropolitana|\n",
      "+------+------+---------+-----+------+--------------+---------------+----------+---------+----------------+--------------+----------+---------------+-----------+----------------+---------------------+----------------------+\n",
      "|Brasil|  null|     null|   76|  null|          null|           null|2020-02-25|        9|       210147125|             0|         0|              0|          0|            null|                 null|                  null|\n",
      "|Brasil|  null|     null|   76|  null|          null|           null|2020-02-26|        9|       210147125|             1|         1|              0|          0|            null|                 null|                  null|\n",
      "+------+------+---------+-----+------+--------------+---------------+----------+---------+----------------+--------------+----------+---------------+-----------+----------------+---------------------+----------------------+\n",
      "only showing top 2 rows\n",
      "\n"
     ]
    }
   ],
   "source": [
    "spark.read.table(\"covid19_I\").show(2)"
   ]
  },
  {
   "cell_type": "code",
   "execution_count": 19,
   "metadata": {},
   "outputs": [
    {
     "name": "stdout",
     "output_type": "stream",
     "text": [
      "+------+------+---------+-----+------+--------------+---------------+----------+---------+----------------+--------------+----------+---------------+-----------+----------------+---------------------+----------------------+\n",
      "|regiao|estado|municipio|coduf|codmun|codRegiaoSaude|nomeRegiaoSaude|      data|semanaEpi|populacaoTCU2019|casosAcumulado|casosNovos|obitosAcumulado|obitosNovos|Recuperadosnovos|emAcompanhamentoNovos|interior/metropolitana|\n",
      "+------+------+---------+-----+------+--------------+---------------+----------+---------+----------------+--------------+----------+---------------+-----------+----------------+---------------------+----------------------+\n",
      "|Brasil|  null|     null|   76|  null|          null|           null|2020-08-01|       31|       210147125|       2707877|     45392|          93563|       1088|         1865729|               748585|                  null|\n",
      "|Brasil|  null|     null|   76|  null|          null|           null|2020-08-02|       32|       210147125|       2733677|     25800|          94104|        541|         1883677|               755896|                  null|\n",
      "+------+------+---------+-----+------+--------------+---------------+----------+---------+----------------+--------------+----------+---------------+-----------+----------------+---------------------+----------------------+\n",
      "only showing top 2 rows\n",
      "\n"
     ]
    }
   ],
   "source": [
    "spark.read.table(\"covid19_II\").show(2)"
   ]
  },
  {
   "cell_type": "code",
   "execution_count": 20,
   "metadata": {},
   "outputs": [
    {
     "name": "stdout",
     "output_type": "stream",
     "text": [
      "+------+------+---------+-----+------+--------------+---------------+----------+---------+----------------+--------------+----------+---------------+-----------+----------------+---------------------+----------------------+\n",
      "|regiao|estado|municipio|coduf|codmun|codRegiaoSaude|nomeRegiaoSaude|      data|semanaEpi|populacaoTCU2019|casosAcumulado|casosNovos|obitosAcumulado|obitosNovos|Recuperadosnovos|emAcompanhamentoNovos|interior/metropolitana|\n",
      "+------+------+---------+-----+------+--------------+---------------+----------+---------+----------------+--------------+----------+---------------+-----------+----------------+---------------------+----------------------+\n",
      "|Brasil|  null|     null|   76|  null|          null|           null|2021-01-01|       53|       210147125|       7700578|     24605|         195411|        462|         6756284|               748883|                  null|\n",
      "|Brasil|  null|     null|   76|  null|          null|           null|2021-01-02|       53|       210147125|       7716405|     15827|         195725|        314|         6769420|               751260|                  null|\n",
      "+------+------+---------+-----+------+--------------+---------------+----------+---------+----------------+--------------+----------+---------------+-----------+----------------+---------------------+----------------------+\n",
      "only showing top 2 rows\n",
      "\n"
     ]
    }
   ],
   "source": [
    "spark.read.table(\"covid19_III\").show(2)"
   ]
  },
  {
   "cell_type": "code",
   "execution_count": 21,
   "metadata": {},
   "outputs": [
    {
     "name": "stdout",
     "output_type": "stream",
     "text": [
      "+------+------+---------+-----+------+--------------+---------------+----------+---------+----------------+--------------+----------+---------------+-----------+----------------+---------------------+----------------------+\n",
      "|regiao|estado|municipio|coduf|codmun|codRegiaoSaude|nomeRegiaoSaude|      data|semanaEpi|populacaoTCU2019|casosAcumulado|casosNovos|obitosAcumulado|obitosNovos|Recuperadosnovos|emAcompanhamentoNovos|interior/metropolitana|\n",
      "+------+------+---------+-----+------+--------------+---------------+----------+---------+----------------+--------------+----------+---------------+-----------+----------------+---------------------+----------------------+\n",
      "|Brasil|  null|     null|   76|  null|          null|           null|2021-07-01|       26|       210147125|      18622304|     65163|         520095|       2029|        16931272|              1170937|                  null|\n",
      "|Brasil|  null|     null|   76|  null|          null|           null|2021-07-02|       26|       210147125|      18687469|     65165|         521952|       1857|        16989351|              1176166|                  null|\n",
      "+------+------+---------+-----+------+--------------+---------------+----------+---------+----------------+--------------+----------+---------------+-----------+----------------+---------------------+----------------------+\n",
      "only showing top 2 rows\n",
      "\n"
     ]
    }
   ],
   "source": [
    "spark.read.table(\"covid19_IV\").show(2)"
   ]
  },
  {
   "cell_type": "markdown",
   "metadata": {},
   "source": [
    "### TABELAS HIVE POR MUNICÍPIO ###"
   ]
  },
  {
   "cell_type": "code",
   "execution_count": 22,
   "metadata": {},
   "outputs": [],
   "source": [
    "from pyspark.sql.functions import *"
   ]
  },
  {
   "cell_type": "code",
   "execution_count": 23,
   "metadata": {},
   "outputs": [
    {
     "name": "stdout",
     "output_type": "stream",
     "text": [
      "+---------+\n",
      "|municipio|\n",
      "+---------+\n",
      "|     null|\n",
      "|     null|\n",
      "|     null|\n",
      "|     null|\n",
      "|     null|\n",
      "+---------+\n",
      "only showing top 5 rows\n",
      "\n"
     ]
    }
   ],
   "source": [
    "covid19_1_df = spark.sql(\"select municipio from covid19_I\").show(5)"
   ]
  },
  {
   "cell_type": "code",
   "execution_count": 24,
   "metadata": {},
   "outputs": [
    {
     "name": "stdout",
     "output_type": "stream",
     "text": [
      "+---------+\n",
      "|municipio|\n",
      "+---------+\n",
      "|     null|\n",
      "|     null|\n",
      "|     null|\n",
      "|     null|\n",
      "|     null|\n",
      "+---------+\n",
      "only showing top 5 rows\n",
      "\n"
     ]
    }
   ],
   "source": [
    "covid19_2_df = spark.sql(\"select municipio from covid19_II\").show(5)"
   ]
  },
  {
   "cell_type": "code",
   "execution_count": 25,
   "metadata": {},
   "outputs": [
    {
     "name": "stdout",
     "output_type": "stream",
     "text": [
      "+---------+\n",
      "|municipio|\n",
      "+---------+\n",
      "|     null|\n",
      "|     null|\n",
      "|     null|\n",
      "|     null|\n",
      "|     null|\n",
      "+---------+\n",
      "only showing top 5 rows\n",
      "\n"
     ]
    }
   ],
   "source": [
    "covid19_3_df = spark.sql(\"select municipio from covid19_III\").show(5)"
   ]
  },
  {
   "cell_type": "code",
   "execution_count": 26,
   "metadata": {},
   "outputs": [
    {
     "name": "stdout",
     "output_type": "stream",
     "text": [
      "+---------+\n",
      "|municipio|\n",
      "+---------+\n",
      "|     null|\n",
      "|     null|\n",
      "|     null|\n",
      "|     null|\n",
      "+---------+\n",
      "only showing top 4 rows\n",
      "\n"
     ]
    }
   ],
   "source": [
    "covid19_4_df = spark.sql(\"select municipio from covid19_IV\").show(4)"
   ]
  },
  {
   "cell_type": "code",
   "execution_count": 28,
   "metadata": {},
   "outputs": [
    {
     "name": "stdout",
     "output_type": "stream",
     "text": [
      "root\n",
      " |-- regiao: string (nullable = true)\n",
      " |-- estado: string (nullable = true)\n",
      " |-- municipio: string (nullable = true)\n",
      " |-- coduf: string (nullable = true)\n",
      " |-- codmun: string (nullable = true)\n",
      " |-- codRegiaoSaude: string (nullable = true)\n",
      " |-- nomeRegiaoSaude: string (nullable = true)\n",
      " |-- data: string (nullable = true)\n",
      " |-- semanaEpi: string (nullable = true)\n",
      " |-- populacaoTCU2019: string (nullable = true)\n",
      " |-- casosAcumulado: string (nullable = true)\n",
      " |-- casosNovos: string (nullable = true)\n",
      " |-- obitosAcumulado: string (nullable = true)\n",
      " |-- obitosNovos: string (nullable = true)\n",
      " |-- Recuperadosnovos: string (nullable = true)\n",
      " |-- emAcompanhamentoNovos: string (nullable = true)\n",
      " |-- interior/metropolitana: string (nullable = true)\n",
      "\n"
     ]
    }
   ],
   "source": [
    "arquivo_covid19_1.printSchema()"
   ]
  },
  {
   "cell_type": "code",
   "execution_count": 29,
   "metadata": {},
   "outputs": [],
   "source": [
    "from pyspark.sql.types import IntegerType"
   ]
  },
  {
   "cell_type": "code",
   "execution_count": 30,
   "metadata": {},
   "outputs": [],
   "source": [
    "arquivo_covid19_1 = arquivo_covid19_1.withColumn(\"casosAcumulado\", arquivo_covid19_1[\"casosAcumulado\"].cast(IntegerType()))\n",
    "arquivo_covid19_1 = arquivo_covid19_1.withColumn(\"casosNovos\", arquivo_covid19_1[\"casosNovos\"].cast(IntegerType()))\n",
    "arquivo_covid19_1 = arquivo_covid19_1.withColumn(\"obitosAcumulado\", arquivo_covid19_1[\"obitosAcumulado\"].cast(IntegerType()))\n",
    "arquivo_covid19_1 = arquivo_covid19_1.withColumn(\"obitosNovos\", arquivo_covid19_1[\"obitosNovos\"].cast(IntegerType()))\n",
    "arquivo_covid19_1 = arquivo_covid19_1.withColumn(\"Recuperadosnovos\", arquivo_covid19_1[\"Recuperadosnovos\"].cast(IntegerType()))\n",
    "arquivo_covid19_1 = arquivo_covid19_1.withColumn(\"emAcompanhamentoNovos\", arquivo_covid19_1[\"emAcompanhamentoNovos\"].cast(IntegerType()))"
   ]
  },
  {
   "cell_type": "code",
   "execution_count": 31,
   "metadata": {
    "scrolled": true
   },
   "outputs": [
    {
     "name": "stdout",
     "output_type": "stream",
     "text": [
      "root\n",
      " |-- regiao: string (nullable = true)\n",
      " |-- estado: string (nullable = true)\n",
      " |-- municipio: string (nullable = true)\n",
      " |-- coduf: string (nullable = true)\n",
      " |-- codmun: string (nullable = true)\n",
      " |-- codRegiaoSaude: string (nullable = true)\n",
      " |-- nomeRegiaoSaude: string (nullable = true)\n",
      " |-- data: string (nullable = true)\n",
      " |-- semanaEpi: string (nullable = true)\n",
      " |-- populacaoTCU2019: string (nullable = true)\n",
      " |-- casosAcumulado: integer (nullable = true)\n",
      " |-- casosNovos: integer (nullable = true)\n",
      " |-- obitosAcumulado: integer (nullable = true)\n",
      " |-- obitosNovos: integer (nullable = true)\n",
      " |-- Recuperadosnovos: integer (nullable = true)\n",
      " |-- emAcompanhamentoNovos: integer (nullable = true)\n",
      " |-- interior/metropolitana: string (nullable = true)\n",
      "\n"
     ]
    }
   ],
   "source": [
    "arquivo_covid19_1.printSchema()"
   ]
  },
  {
   "cell_type": "code",
   "execution_count": 38,
   "metadata": {},
   "outputs": [],
   "source": [
    "from pyspark.sql import functions as F"
   ]
  },
  {
   "cell_type": "markdown",
   "metadata": {},
   "source": [
    "### INDICADORES COVID-19 2020 - PARTE 1 ###"
   ]
  },
  {
   "cell_type": "code",
   "execution_count": 44,
   "metadata": {},
   "outputs": [
    {
     "name": "stdout",
     "output_type": "stream",
     "text": [
      "[Row(sum(casosAcumulado)=299412319)]\n"
     ]
    }
   ],
   "source": [
    "total = arquivo_covid19_1.groupBy().agg(F.sum(\"casosAcumulado\")).collect()\n",
    "print(total)"
   ]
  },
  {
   "cell_type": "code",
   "execution_count": 45,
   "metadata": {},
   "outputs": [
    {
     "name": "stdout",
     "output_type": "stream",
     "text": [
      "[Row(sum(casosNovos)=7987455)]\n"
     ]
    }
   ],
   "source": [
    "total2 = arquivo_covid19_1.groupBy().agg(F.sum(\"casosNovos\")).collect()\n",
    "print(total2)"
   ]
  },
  {
   "cell_type": "code",
   "execution_count": 46,
   "metadata": {},
   "outputs": [
    {
     "name": "stdout",
     "output_type": "stream",
     "text": [
      "[Row(sum(obitosAcumulado)=12896720)]\n"
     ]
    }
   ],
   "source": [
    "total3 = arquivo_covid19_1.groupBy().agg(F.sum(\"obitosAcumulado\")).collect()\n",
    "print(total3)"
   ]
  },
  {
   "cell_type": "code",
   "execution_count": 47,
   "metadata": {},
   "outputs": [
    {
     "name": "stdout",
     "output_type": "stream",
     "text": [
      "[Row(sum(obitosNovos)=277425)]\n"
     ]
    }
   ],
   "source": [
    "total4 = arquivo_covid19_1.groupBy().agg(F.sum(\"obitosNovos\")).collect()\n",
    "print(total4)"
   ]
  },
  {
   "cell_type": "code",
   "execution_count": 48,
   "metadata": {},
   "outputs": [
    {
     "name": "stdout",
     "output_type": "stream",
     "text": [
      "[Row(sum(Recuperadosnovos)=57518708)]\n"
     ]
    }
   ],
   "source": [
    "total5 = arquivo_covid19_1.groupBy().agg(F.sum(\"Recuperadosnovos\")).collect()\n",
    "print(total5)"
   ]
  },
  {
   "cell_type": "code",
   "execution_count": 50,
   "metadata": {},
   "outputs": [
    {
     "name": "stdout",
     "output_type": "stream",
     "text": [
      "[Row(sum(emAcompanhamentoNovos)=37629526)]\n"
     ]
    }
   ],
   "source": [
    "total6 = arquivo_covid19_1.groupBy().agg(F.sum(\"emAcompanhamentoNovos\")).collect()\n",
    "print(total6)"
   ]
  },
  {
   "cell_type": "markdown",
   "metadata": {},
   "source": [
    "### INDICADORES COVID-19 2020 - PARTE 2 ###"
   ]
  },
  {
   "cell_type": "code",
   "execution_count": 51,
   "metadata": {
    "scrolled": true
   },
   "outputs": [
    {
     "name": "stdout",
     "output_type": "stream",
     "text": [
      "[Row(sum(casosAcumulado)=2380872794.0)]\n"
     ]
    }
   ],
   "source": [
    "total = arquivo_covid19_2.groupBy().agg(F.sum(\"casosAcumulado\")).collect()\n",
    "print(total)"
   ]
  },
  {
   "cell_type": "code",
   "execution_count": 52,
   "metadata": {},
   "outputs": [
    {
     "name": "stdout",
     "output_type": "stream",
     "text": [
      "[Row(sum(casosNovos)=15040464.0)]\n"
     ]
    }
   ],
   "source": [
    "total2 = arquivo_covid19_2.groupBy().agg(F.sum(\"casosNovos\")).collect()\n",
    "print(total2)"
   ]
  },
  {
   "cell_type": "code",
   "execution_count": 57,
   "metadata": {},
   "outputs": [
    {
     "name": "stdout",
     "output_type": "stream",
     "text": [
      "[Row(sum(obitosAcumulado)=68512436.0)]\n"
     ]
    }
   ],
   "source": [
    "total3 = arquivo_covid19_2.groupBy().agg(F.sum(\"obitosAcumulado\")).collect()\n",
    "print(total3)"
   ]
  },
  {
   "cell_type": "code",
   "execution_count": 58,
   "metadata": {},
   "outputs": [
    {
     "name": "stdout",
     "output_type": "stream",
     "text": [
      "[Row(sum(obitosNovos)=307422.0)]\n"
     ]
    }
   ],
   "source": [
    "total4 = arquivo_covid19_2.groupBy().agg(F.sum(\"obitosNovos\")).collect()\n",
    "print(total4)"
   ]
  },
  {
   "cell_type": "code",
   "execution_count": 59,
   "metadata": {},
   "outputs": [
    {
     "name": "stdout",
     "output_type": "stream",
     "text": [
      "[Row(sum(Recuperadosnovos)=685778668.0)]\n"
     ]
    }
   ],
   "source": [
    "total5 = arquivo_covid19_2.groupBy().agg(F.sum(\"Recuperadosnovos\")).collect()\n",
    "print(total5)"
   ]
  },
  {
   "cell_type": "code",
   "execution_count": 60,
   "metadata": {},
   "outputs": [
    {
     "name": "stdout",
     "output_type": "stream",
     "text": [
      "[Row(sum(emAcompanhamentoNovos)=89880341.0)]\n"
     ]
    }
   ],
   "source": [
    "total6 = arquivo_covid19_2.groupBy().agg(F.sum(\"emAcompanhamentoNovos\")).collect()\n",
    "print(total6)"
   ]
  },
  {
   "cell_type": "markdown",
   "metadata": {},
   "source": [
    "### INDICADORES COVID-19 2021 - PARTE 1 ###"
   ]
  },
  {
   "cell_type": "code",
   "execution_count": 61,
   "metadata": {},
   "outputs": [
    {
     "name": "stdout",
     "output_type": "stream",
     "text": [
      "[Row(sum(casosAcumulado)=6980779583.0)]\n"
     ]
    }
   ],
   "source": [
    "total = arquivo_covid19_3.groupBy().agg(F.sum(\"casosAcumulado\")).collect()\n",
    "print(total)"
   ]
  },
  {
   "cell_type": "code",
   "execution_count": 62,
   "metadata": {},
   "outputs": [
    {
     "name": "stdout",
     "output_type": "stream",
     "text": [
      "[Row(sum(casosNovos)=32643504.0)]\n"
     ]
    }
   ],
   "source": [
    "total2 = arquivo_covid19_3.groupBy().agg(F.sum(\"casosNovos\")).collect()\n",
    "print(total2)"
   ]
  },
  {
   "cell_type": "code",
   "execution_count": 63,
   "metadata": {},
   "outputs": [
    {
     "name": "stdout",
     "output_type": "stream",
     "text": [
      "[Row(sum(obitosAcumulado)=183948764.0)]\n"
     ]
    }
   ],
   "source": [
    "total3 = arquivo_covid19_3.groupBy().agg(F.sum(\"obitosAcumulado\")).collect()\n",
    "print(total3)"
   ]
  },
  {
   "cell_type": "code",
   "execution_count": 64,
   "metadata": {
    "scrolled": true
   },
   "outputs": [
    {
     "name": "stdout",
     "output_type": "stream",
     "text": [
      "[Row(sum(obitosNovos)=969351.0)]\n"
     ]
    }
   ],
   "source": [
    "total4 = arquivo_covid19_3.groupBy().agg(F.sum(\"obitosNovos\")).collect()\n",
    "print(total4)"
   ]
  },
  {
   "cell_type": "code",
   "execution_count": 65,
   "metadata": {},
   "outputs": [
    {
     "name": "stdout",
     "output_type": "stream",
     "text": [
      "[Row(sum(Recuperadosnovos)=2074306793.0)]\n"
     ]
    }
   ],
   "source": [
    "total5 = arquivo_covid19_3.groupBy().agg(F.sum(\"Recuperadosnovos\")).collect()\n",
    "print(total5)"
   ]
  },
  {
   "cell_type": "code",
   "execution_count": 66,
   "metadata": {},
   "outputs": [
    {
     "name": "stdout",
     "output_type": "stream",
     "text": [
      "[Row(sum(emAcompanhamentoNovos)=186408108.0)]\n"
     ]
    }
   ],
   "source": [
    "total6 = arquivo_covid19_3.groupBy().agg(F.sum(\"emAcompanhamentoNovos\")).collect()\n",
    "print(total6)"
   ]
  },
  {
   "cell_type": "markdown",
   "metadata": {},
   "source": [
    "### INDICADORES COVID-19 2021 - PARTE 2 ###"
   ]
  },
  {
   "cell_type": "code",
   "execution_count": 68,
   "metadata": {},
   "outputs": [
    {
     "name": "stdout",
     "output_type": "stream",
     "text": [
      "[Row(sum(casosAcumulado)=337407396.0)]\n"
     ]
    }
   ],
   "source": [
    "total = arquivo_covid19_4.groupBy().agg(F.sum(\"casosAcumulado\")).collect()\n",
    "print(total)"
   ]
  },
  {
   "cell_type": "code",
   "execution_count": 69,
   "metadata": {},
   "outputs": [
    {
     "name": "stdout",
     "output_type": "stream",
     "text": [
      "[Row(sum(casosNovos)=893622.0)]\n"
     ]
    }
   ],
   "source": [
    "total2 = arquivo_covid19_4.groupBy().agg(F.sum(\"casosNovos\")).collect()\n",
    "print(total2)"
   ]
  },
  {
   "cell_type": "code",
   "execution_count": 70,
   "metadata": {},
   "outputs": [
    {
     "name": "stdout",
     "output_type": "stream",
     "text": [
      "[Row(sum(obitosAcumulado)=9426165.0)]\n"
     ]
    }
   ],
   "source": [
    "total3 = arquivo_covid19_4.groupBy().agg(F.sum(\"obitosAcumulado\")).collect()\n",
    "print(total3)"
   ]
  },
  {
   "cell_type": "code",
   "execution_count": 71,
   "metadata": {},
   "outputs": [
    {
     "name": "stdout",
     "output_type": "stream",
     "text": [
      "[Row(sum(obitosNovos)=26478.0)]\n"
     ]
    }
   ],
   "source": [
    "total4 = arquivo_covid19_4.groupBy().agg(F.sum(\"obitosNovos\")).collect()\n",
    "print(total4)"
   ]
  },
  {
   "cell_type": "code",
   "execution_count": 72,
   "metadata": {},
   "outputs": [
    {
     "name": "stdout",
     "output_type": "stream",
     "text": [
      "[Row(sum(Recuperadosnovos)=102451626.0)]\n"
     ]
    }
   ],
   "source": [
    "total5 = arquivo_covid19_4.groupBy().agg(F.sum(\"Recuperadosnovos\")).collect()\n",
    "print(total5)"
   ]
  },
  {
   "cell_type": "code",
   "execution_count": 73,
   "metadata": {},
   "outputs": [
    {
     "name": "stdout",
     "output_type": "stream",
     "text": [
      "[Row(sum(emAcompanhamentoNovos)=6875451.0)]\n"
     ]
    }
   ],
   "source": [
    "total6 = arquivo_covid19_4.groupBy().agg(F.sum(\"emAcompanhamentoNovos\")).collect()\n",
    "print(total6)"
   ]
  },
  {
   "cell_type": "markdown",
   "metadata": {},
   "source": [
    "**Projeto incompleto - Devido ao tempo e atribuições inerentes a vida cotidiana, porém feito dentro das atuais possibilidades e como solidificação do excelente treinamento.**\n",
    "\n",
    "**Cézar Augusto Meira Carmo**"
   ]
  }
 ],
 "metadata": {
  "kernelspec": {
   "display_name": "PySpark",
   "language": "python",
   "name": "pyspark"
  },
  "language_info": {
   "codemirror_mode": {
    "name": "ipython",
    "version": 3
   },
   "file_extension": ".py",
   "mimetype": "text/x-python",
   "name": "python",
   "nbconvert_exporter": "python",
   "pygments_lexer": "ipython3",
   "version": "3.6.10"
  }
 },
 "nbformat": 4,
 "nbformat_minor": 2
}
